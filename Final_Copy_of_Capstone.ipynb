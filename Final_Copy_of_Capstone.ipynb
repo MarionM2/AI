{
  "nbformat": 4,
  "nbformat_minor": 0,
  "metadata": {
    "colab": {
      "provenance": [],
      "mount_file_id": "1w9oWSxVeugJR1ppdNHhD207S_2sSm1t5",
      "authorship_tag": "ABX9TyOovuPhM7fpVSO5tO/ObBXl",
      "include_colab_link": true
    },
    "kernelspec": {
      "name": "python3",
      "display_name": "Python 3"
    },
    "language_info": {
      "name": "python"
    }
  },
  "cells": [
    {
      "cell_type": "markdown",
      "metadata": {
        "id": "view-in-github",
        "colab_type": "text"
      },
      "source": [
        "<a href=\"https://colab.research.google.com/github/MarionM2/AI/blob/main/Final_Copy_of_Capstone.ipynb\" target=\"_parent\"><img src=\"https://colab.research.google.com/assets/colab-badge.svg\" alt=\"Open In Colab\"/></a>"
      ]
    },
    {
      "cell_type": "code",
      "execution_count": 76,
      "metadata": {
        "id": "vvuJBQZ_smfy"
      },
      "outputs": [],
      "source": [
        "import numpy as np # linear algebra\n",
        "import pandas as pd\n",
        "import seaborn as sns\n",
        "import matplotlib.pyplot as plt"
      ]
    },
    {
      "cell_type": "code",
      "source": [
        "from google.colab import drive\n",
        "drive.mount('/content/drive')"
      ],
      "metadata": {
        "colab": {
          "base_uri": "https://localhost:8080/"
        },
        "id": "sGNncJGEt3xl",
        "outputId": "5f3e5210-04bc-4b97-877a-f99f33e50cef"
      },
      "execution_count": 77,
      "outputs": [
        {
          "output_type": "stream",
          "name": "stdout",
          "text": [
            "Drive already mounted at /content/drive; to attempt to forcibly remount, call drive.mount(\"/content/drive\", force_remount=True).\n"
          ]
        }
      ]
    },
    {
      "cell_type": "code",
      "source": [
        "df= pd.read_csv(\"/content/drive/MyDrive/Dataset/Maize Production in Kenya(1) - data - Maize Production in Kenya(1) - data (1) - Maize Production in Kenya(1) - data - Maize Production in Kenya(1) - data (1).csv\")"
      ],
      "metadata": {
        "id": "Brl7QwSMuRna"
      },
      "execution_count": 78,
      "outputs": []
    },
    {
      "cell_type": "code",
      "source": [
        "df.head(10)"
      ],
      "metadata": {
        "colab": {
          "base_uri": "https://localhost:8080/",
          "height": 363
        },
        "id": "WK_LccHsuxOd",
        "outputId": "5b0d9a8d-5b66-453f-e24f-47aa11cf1938"
      },
      "execution_count": 79,
      "outputs": [
        {
          "output_type": "execute_result",
          "data": {
            "text/plain": [
              "    County    Area Precipitation  Year  Temperature Fertilizer(Kg) Production\n",
              "0  Baringo  39,753       1423.72  2012        21.02          4,527     71,867\n",
              "1  Baringo  29,117       1349.11  2013        21.29          3,314     55,805\n",
              "2  Baringo  34,960        924.75  2014        21.19          3,980     34,959\n",
              "3  Baringo  44,159       1205.25  2015        21.22          5,028     83,313\n",
              "4  Baringo  33,163       1038.43  2016        21.68          3,562     72,495\n",
              "5  Baringo  33,308       1486.25  2017        21.44          3,451     45,764\n",
              "6  Baringo  37,658       1632.36  2018        21.15           5646    58475.6\n",
              "7  Baringo  47,437       1446.97  2020        21.51           6333   68374.39\n",
              "8    Bomet  32,697       1964.29  2012        17.64           5947     73,278\n",
              "9    Bomet  30,620       1842.46  2013        17.88          5,569     72,236"
            ],
            "text/html": [
              "\n",
              "  <div id=\"df-204f24ba-1fbd-4407-9d59-95ebb5c49791\" class=\"colab-df-container\">\n",
              "    <div>\n",
              "<style scoped>\n",
              "    .dataframe tbody tr th:only-of-type {\n",
              "        vertical-align: middle;\n",
              "    }\n",
              "\n",
              "    .dataframe tbody tr th {\n",
              "        vertical-align: top;\n",
              "    }\n",
              "\n",
              "    .dataframe thead th {\n",
              "        text-align: right;\n",
              "    }\n",
              "</style>\n",
              "<table border=\"1\" class=\"dataframe\">\n",
              "  <thead>\n",
              "    <tr style=\"text-align: right;\">\n",
              "      <th></th>\n",
              "      <th>County</th>\n",
              "      <th>Area</th>\n",
              "      <th>Precipitation</th>\n",
              "      <th>Year</th>\n",
              "      <th>Temperature</th>\n",
              "      <th>Fertilizer(Kg)</th>\n",
              "      <th>Production</th>\n",
              "    </tr>\n",
              "  </thead>\n",
              "  <tbody>\n",
              "    <tr>\n",
              "      <th>0</th>\n",
              "      <td>Baringo</td>\n",
              "      <td>39,753</td>\n",
              "      <td>1423.72</td>\n",
              "      <td>2012</td>\n",
              "      <td>21.02</td>\n",
              "      <td>4,527</td>\n",
              "      <td>71,867</td>\n",
              "    </tr>\n",
              "    <tr>\n",
              "      <th>1</th>\n",
              "      <td>Baringo</td>\n",
              "      <td>29,117</td>\n",
              "      <td>1349.11</td>\n",
              "      <td>2013</td>\n",
              "      <td>21.29</td>\n",
              "      <td>3,314</td>\n",
              "      <td>55,805</td>\n",
              "    </tr>\n",
              "    <tr>\n",
              "      <th>2</th>\n",
              "      <td>Baringo</td>\n",
              "      <td>34,960</td>\n",
              "      <td>924.75</td>\n",
              "      <td>2014</td>\n",
              "      <td>21.19</td>\n",
              "      <td>3,980</td>\n",
              "      <td>34,959</td>\n",
              "    </tr>\n",
              "    <tr>\n",
              "      <th>3</th>\n",
              "      <td>Baringo</td>\n",
              "      <td>44,159</td>\n",
              "      <td>1205.25</td>\n",
              "      <td>2015</td>\n",
              "      <td>21.22</td>\n",
              "      <td>5,028</td>\n",
              "      <td>83,313</td>\n",
              "    </tr>\n",
              "    <tr>\n",
              "      <th>4</th>\n",
              "      <td>Baringo</td>\n",
              "      <td>33,163</td>\n",
              "      <td>1038.43</td>\n",
              "      <td>2016</td>\n",
              "      <td>21.68</td>\n",
              "      <td>3,562</td>\n",
              "      <td>72,495</td>\n",
              "    </tr>\n",
              "    <tr>\n",
              "      <th>5</th>\n",
              "      <td>Baringo</td>\n",
              "      <td>33,308</td>\n",
              "      <td>1486.25</td>\n",
              "      <td>2017</td>\n",
              "      <td>21.44</td>\n",
              "      <td>3,451</td>\n",
              "      <td>45,764</td>\n",
              "    </tr>\n",
              "    <tr>\n",
              "      <th>6</th>\n",
              "      <td>Baringo</td>\n",
              "      <td>37,658</td>\n",
              "      <td>1632.36</td>\n",
              "      <td>2018</td>\n",
              "      <td>21.15</td>\n",
              "      <td>5646</td>\n",
              "      <td>58475.6</td>\n",
              "    </tr>\n",
              "    <tr>\n",
              "      <th>7</th>\n",
              "      <td>Baringo</td>\n",
              "      <td>47,437</td>\n",
              "      <td>1446.97</td>\n",
              "      <td>2020</td>\n",
              "      <td>21.51</td>\n",
              "      <td>6333</td>\n",
              "      <td>68374.39</td>\n",
              "    </tr>\n",
              "    <tr>\n",
              "      <th>8</th>\n",
              "      <td>Bomet</td>\n",
              "      <td>32,697</td>\n",
              "      <td>1964.29</td>\n",
              "      <td>2012</td>\n",
              "      <td>17.64</td>\n",
              "      <td>5947</td>\n",
              "      <td>73,278</td>\n",
              "    </tr>\n",
              "    <tr>\n",
              "      <th>9</th>\n",
              "      <td>Bomet</td>\n",
              "      <td>30,620</td>\n",
              "      <td>1842.46</td>\n",
              "      <td>2013</td>\n",
              "      <td>17.88</td>\n",
              "      <td>5,569</td>\n",
              "      <td>72,236</td>\n",
              "    </tr>\n",
              "  </tbody>\n",
              "</table>\n",
              "</div>\n",
              "    <div class=\"colab-df-buttons\">\n",
              "\n",
              "  <div class=\"colab-df-container\">\n",
              "    <button class=\"colab-df-convert\" onclick=\"convertToInteractive('df-204f24ba-1fbd-4407-9d59-95ebb5c49791')\"\n",
              "            title=\"Convert this dataframe to an interactive table.\"\n",
              "            style=\"display:none;\">\n",
              "\n",
              "  <svg xmlns=\"http://www.w3.org/2000/svg\" height=\"24px\" viewBox=\"0 -960 960 960\">\n",
              "    <path d=\"M120-120v-720h720v720H120Zm60-500h600v-160H180v160Zm220 220h160v-160H400v160Zm0 220h160v-160H400v160ZM180-400h160v-160H180v160Zm440 0h160v-160H620v160ZM180-180h160v-160H180v160Zm440 0h160v-160H620v160Z\"/>\n",
              "  </svg>\n",
              "    </button>\n",
              "\n",
              "  <style>\n",
              "    .colab-df-container {\n",
              "      display:flex;\n",
              "      gap: 12px;\n",
              "    }\n",
              "\n",
              "    .colab-df-convert {\n",
              "      background-color: #E8F0FE;\n",
              "      border: none;\n",
              "      border-radius: 50%;\n",
              "      cursor: pointer;\n",
              "      display: none;\n",
              "      fill: #1967D2;\n",
              "      height: 32px;\n",
              "      padding: 0 0 0 0;\n",
              "      width: 32px;\n",
              "    }\n",
              "\n",
              "    .colab-df-convert:hover {\n",
              "      background-color: #E2EBFA;\n",
              "      box-shadow: 0px 1px 2px rgba(60, 64, 67, 0.3), 0px 1px 3px 1px rgba(60, 64, 67, 0.15);\n",
              "      fill: #174EA6;\n",
              "    }\n",
              "\n",
              "    .colab-df-buttons div {\n",
              "      margin-bottom: 4px;\n",
              "    }\n",
              "\n",
              "    [theme=dark] .colab-df-convert {\n",
              "      background-color: #3B4455;\n",
              "      fill: #D2E3FC;\n",
              "    }\n",
              "\n",
              "    [theme=dark] .colab-df-convert:hover {\n",
              "      background-color: #434B5C;\n",
              "      box-shadow: 0px 1px 3px 1px rgba(0, 0, 0, 0.15);\n",
              "      filter: drop-shadow(0px 1px 2px rgba(0, 0, 0, 0.3));\n",
              "      fill: #FFFFFF;\n",
              "    }\n",
              "  </style>\n",
              "\n",
              "    <script>\n",
              "      const buttonEl =\n",
              "        document.querySelector('#df-204f24ba-1fbd-4407-9d59-95ebb5c49791 button.colab-df-convert');\n",
              "      buttonEl.style.display =\n",
              "        google.colab.kernel.accessAllowed ? 'block' : 'none';\n",
              "\n",
              "      async function convertToInteractive(key) {\n",
              "        const element = document.querySelector('#df-204f24ba-1fbd-4407-9d59-95ebb5c49791');\n",
              "        const dataTable =\n",
              "          await google.colab.kernel.invokeFunction('convertToInteractive',\n",
              "                                                    [key], {});\n",
              "        if (!dataTable) return;\n",
              "\n",
              "        const docLinkHtml = 'Like what you see? Visit the ' +\n",
              "          '<a target=\"_blank\" href=https://colab.research.google.com/notebooks/data_table.ipynb>data table notebook</a>'\n",
              "          + ' to learn more about interactive tables.';\n",
              "        element.innerHTML = '';\n",
              "        dataTable['output_type'] = 'display_data';\n",
              "        await google.colab.output.renderOutput(dataTable, element);\n",
              "        const docLink = document.createElement('div');\n",
              "        docLink.innerHTML = docLinkHtml;\n",
              "        element.appendChild(docLink);\n",
              "      }\n",
              "    </script>\n",
              "  </div>\n",
              "\n",
              "\n",
              "<div id=\"df-d086e4b6-cc6c-4197-b0ea-1d0b475f6467\">\n",
              "  <button class=\"colab-df-quickchart\" onclick=\"quickchart('df-d086e4b6-cc6c-4197-b0ea-1d0b475f6467')\"\n",
              "            title=\"Suggest charts\"\n",
              "            style=\"display:none;\">\n",
              "\n",
              "<svg xmlns=\"http://www.w3.org/2000/svg\" height=\"24px\"viewBox=\"0 0 24 24\"\n",
              "     width=\"24px\">\n",
              "    <g>\n",
              "        <path d=\"M19 3H5c-1.1 0-2 .9-2 2v14c0 1.1.9 2 2 2h14c1.1 0 2-.9 2-2V5c0-1.1-.9-2-2-2zM9 17H7v-7h2v7zm4 0h-2V7h2v10zm4 0h-2v-4h2v4z\"/>\n",
              "    </g>\n",
              "</svg>\n",
              "  </button>\n",
              "\n",
              "<style>\n",
              "  .colab-df-quickchart {\n",
              "      --bg-color: #E8F0FE;\n",
              "      --fill-color: #1967D2;\n",
              "      --hover-bg-color: #E2EBFA;\n",
              "      --hover-fill-color: #174EA6;\n",
              "      --disabled-fill-color: #AAA;\n",
              "      --disabled-bg-color: #DDD;\n",
              "  }\n",
              "\n",
              "  [theme=dark] .colab-df-quickchart {\n",
              "      --bg-color: #3B4455;\n",
              "      --fill-color: #D2E3FC;\n",
              "      --hover-bg-color: #434B5C;\n",
              "      --hover-fill-color: #FFFFFF;\n",
              "      --disabled-bg-color: #3B4455;\n",
              "      --disabled-fill-color: #666;\n",
              "  }\n",
              "\n",
              "  .colab-df-quickchart {\n",
              "    background-color: var(--bg-color);\n",
              "    border: none;\n",
              "    border-radius: 50%;\n",
              "    cursor: pointer;\n",
              "    display: none;\n",
              "    fill: var(--fill-color);\n",
              "    height: 32px;\n",
              "    padding: 0;\n",
              "    width: 32px;\n",
              "  }\n",
              "\n",
              "  .colab-df-quickchart:hover {\n",
              "    background-color: var(--hover-bg-color);\n",
              "    box-shadow: 0 1px 2px rgba(60, 64, 67, 0.3), 0 1px 3px 1px rgba(60, 64, 67, 0.15);\n",
              "    fill: var(--button-hover-fill-color);\n",
              "  }\n",
              "\n",
              "  .colab-df-quickchart-complete:disabled,\n",
              "  .colab-df-quickchart-complete:disabled:hover {\n",
              "    background-color: var(--disabled-bg-color);\n",
              "    fill: var(--disabled-fill-color);\n",
              "    box-shadow: none;\n",
              "  }\n",
              "\n",
              "  .colab-df-spinner {\n",
              "    border: 2px solid var(--fill-color);\n",
              "    border-color: transparent;\n",
              "    border-bottom-color: var(--fill-color);\n",
              "    animation:\n",
              "      spin 1s steps(1) infinite;\n",
              "  }\n",
              "\n",
              "  @keyframes spin {\n",
              "    0% {\n",
              "      border-color: transparent;\n",
              "      border-bottom-color: var(--fill-color);\n",
              "      border-left-color: var(--fill-color);\n",
              "    }\n",
              "    20% {\n",
              "      border-color: transparent;\n",
              "      border-left-color: var(--fill-color);\n",
              "      border-top-color: var(--fill-color);\n",
              "    }\n",
              "    30% {\n",
              "      border-color: transparent;\n",
              "      border-left-color: var(--fill-color);\n",
              "      border-top-color: var(--fill-color);\n",
              "      border-right-color: var(--fill-color);\n",
              "    }\n",
              "    40% {\n",
              "      border-color: transparent;\n",
              "      border-right-color: var(--fill-color);\n",
              "      border-top-color: var(--fill-color);\n",
              "    }\n",
              "    60% {\n",
              "      border-color: transparent;\n",
              "      border-right-color: var(--fill-color);\n",
              "    }\n",
              "    80% {\n",
              "      border-color: transparent;\n",
              "      border-right-color: var(--fill-color);\n",
              "      border-bottom-color: var(--fill-color);\n",
              "    }\n",
              "    90% {\n",
              "      border-color: transparent;\n",
              "      border-bottom-color: var(--fill-color);\n",
              "    }\n",
              "  }\n",
              "</style>\n",
              "\n",
              "  <script>\n",
              "    async function quickchart(key) {\n",
              "      const quickchartButtonEl =\n",
              "        document.querySelector('#' + key + ' button');\n",
              "      quickchartButtonEl.disabled = true;  // To prevent multiple clicks.\n",
              "      quickchartButtonEl.classList.add('colab-df-spinner');\n",
              "      try {\n",
              "        const charts = await google.colab.kernel.invokeFunction(\n",
              "            'suggestCharts', [key], {});\n",
              "      } catch (error) {\n",
              "        console.error('Error during call to suggestCharts:', error);\n",
              "      }\n",
              "      quickchartButtonEl.classList.remove('colab-df-spinner');\n",
              "      quickchartButtonEl.classList.add('colab-df-quickchart-complete');\n",
              "    }\n",
              "    (() => {\n",
              "      let quickchartButtonEl =\n",
              "        document.querySelector('#df-d086e4b6-cc6c-4197-b0ea-1d0b475f6467 button');\n",
              "      quickchartButtonEl.style.display =\n",
              "        google.colab.kernel.accessAllowed ? 'block' : 'none';\n",
              "    })();\n",
              "  </script>\n",
              "</div>\n",
              "    </div>\n",
              "  </div>\n"
            ],
            "application/vnd.google.colaboratory.intrinsic+json": {
              "type": "dataframe",
              "variable_name": "df",
              "summary": "{\n  \"name\": \"df\",\n  \"rows\": 184,\n  \"fields\": [\n    {\n      \"column\": \"County\",\n      \"properties\": {\n        \"dtype\": \"category\",\n        \"num_unique_values\": 23,\n        \"samples\": [\n          \"Kitui\",\n          \"Kericho\",\n          \"Baringo\"\n        ],\n        \"semantic_type\": \"\",\n        \"description\": \"\"\n      }\n    },\n    {\n      \"column\": \"Area\",\n      \"properties\": {\n        \"dtype\": \"string\",\n        \"num_unique_values\": 183,\n        \"samples\": [\n          \"97,397\",\n          \"26,720\",\n          \"73,191\"\n        ],\n        \"semantic_type\": \"\",\n        \"description\": \"\"\n      }\n    },\n    {\n      \"column\": \"Precipitation\",\n      \"properties\": {\n        \"dtype\": \"string\",\n        \"num_unique_values\": 184,\n        \"samples\": [\n          \"1668.13\",\n          \"896.14\",\n          \"1085.82\"\n        ],\n        \"semantic_type\": \"\",\n        \"description\": \"\"\n      }\n    },\n    {\n      \"column\": \"Year\",\n      \"properties\": {\n        \"dtype\": \"number\",\n        \"std\": 2,\n        \"min\": 2012,\n        \"max\": 2020,\n        \"num_unique_values\": 8,\n        \"samples\": [\n          2013,\n          2017,\n          2012\n        ],\n        \"semantic_type\": \"\",\n        \"description\": \"\"\n      }\n    },\n    {\n      \"column\": \"Temperature\",\n      \"properties\": {\n        \"dtype\": \"number\",\n        \"std\": 3.119309385585708,\n        \"min\": 15.38,\n        \"max\": 28.34,\n        \"num_unique_values\": 161,\n        \"samples\": [\n          22.2,\n          25.27,\n          18.52\n        ],\n        \"semantic_type\": \"\",\n        \"description\": \"\"\n      }\n    },\n    {\n      \"column\": \"Fertilizer(Kg)\",\n      \"properties\": {\n        \"dtype\": \"string\",\n        \"num_unique_values\": 181,\n        \"samples\": [\n          \"21,605\",\n          \"1,924\",\n          \"15,562\"\n        ],\n        \"semantic_type\": \"\",\n        \"description\": \"\"\n      }\n    },\n    {\n      \"column\": \"Production\",\n      \"properties\": {\n        \"dtype\": \"string\",\n        \"num_unique_values\": 182,\n        \"samples\": [\n          \"260,266\",\n          \"26,611\",\n          \"207,404\"\n        ],\n        \"semantic_type\": \"\",\n        \"description\": \"\"\n      }\n    }\n  ]\n}"
            }
          },
          "metadata": {},
          "execution_count": 79
        }
      ]
    },
    {
      "cell_type": "code",
      "source": [
        "df.shape"
      ],
      "metadata": {
        "colab": {
          "base_uri": "https://localhost:8080/"
        },
        "id": "f0L5CXZJ0UWr",
        "outputId": "c0345582-6586-4438-cc4c-7e4135d86c16"
      },
      "execution_count": 80,
      "outputs": [
        {
          "output_type": "execute_result",
          "data": {
            "text/plain": [
              "(184, 7)"
            ]
          },
          "metadata": {},
          "execution_count": 80
        }
      ]
    },
    {
      "cell_type": "code",
      "source": [
        "df.info()"
      ],
      "metadata": {
        "colab": {
          "base_uri": "https://localhost:8080/"
        },
        "id": "4Ksr2zyQ0WKx",
        "outputId": "af2c1703-1ab3-4d36-8eb8-44924186d259"
      },
      "execution_count": 81,
      "outputs": [
        {
          "output_type": "stream",
          "name": "stdout",
          "text": [
            "<class 'pandas.core.frame.DataFrame'>\n",
            "RangeIndex: 184 entries, 0 to 183\n",
            "Data columns (total 7 columns):\n",
            " #   Column          Non-Null Count  Dtype  \n",
            "---  ------          --------------  -----  \n",
            " 0   County          184 non-null    object \n",
            " 1   Area            184 non-null    object \n",
            " 2   Precipitation   184 non-null    object \n",
            " 3   Year            184 non-null    int64  \n",
            " 4   Temperature     184 non-null    float64\n",
            " 5   Fertilizer(Kg)  184 non-null    object \n",
            " 6   Production      184 non-null    object \n",
            "dtypes: float64(1), int64(1), object(5)\n",
            "memory usage: 10.2+ KB\n"
          ]
        }
      ]
    },
    {
      "cell_type": "code",
      "source": [
        "df.isnull().sum()"
      ],
      "metadata": {
        "colab": {
          "base_uri": "https://localhost:8080/"
        },
        "id": "CRAANBjXJ0yO",
        "outputId": "e40adb37-b3b3-4d9c-8a4b-2b15e40577ea"
      },
      "execution_count": 82,
      "outputs": [
        {
          "output_type": "execute_result",
          "data": {
            "text/plain": [
              "County            0\n",
              "Area              0\n",
              "Precipitation     0\n",
              "Year              0\n",
              "Temperature       0\n",
              "Fertilizer(Kg)    0\n",
              "Production        0\n",
              "dtype: int64"
            ]
          },
          "metadata": {},
          "execution_count": 82
        }
      ]
    },
    {
      "cell_type": "code",
      "source": [
        "df['Area'] = df['Area'].str.replace(',', '').astype(float).astype(int)\n",
        "df['Production'] = df['Production'].str.replace(',', '').astype(float).astype(int)\n",
        "df['Precipitation'] = pd.to_numeric(df['Precipitation'], errors='coerce')\n",
        "df['Fertilizer(Kg)'] = df['Fertilizer(Kg)'].str.replace(',', '').astype(float).astype(int)\n",
        "\n",
        "# Check the data types again\n",
        "print(df.dtypes)\n"
      ],
      "metadata": {
        "colab": {
          "base_uri": "https://localhost:8080/"
        },
        "id": "dIB7Ym2sjkeY",
        "outputId": "5e6be8ce-08ea-4407-87f0-55175c6ff374"
      },
      "execution_count": 83,
      "outputs": [
        {
          "output_type": "stream",
          "name": "stdout",
          "text": [
            "County             object\n",
            "Area                int64\n",
            "Precipitation     float64\n",
            "Year                int64\n",
            "Temperature       float64\n",
            "Fertilizer(Kg)      int64\n",
            "Production          int64\n",
            "dtype: object\n"
          ]
        }
      ]
    },
    {
      "cell_type": "code",
      "source": [
        "df.duplicated().sum()"
      ],
      "metadata": {
        "id": "Y-k6bxI_D6P_",
        "colab": {
          "base_uri": "https://localhost:8080/"
        },
        "outputId": "c392aa8d-ff74-4d7b-c23c-a9099cef4e76"
      },
      "execution_count": 84,
      "outputs": [
        {
          "output_type": "execute_result",
          "data": {
            "text/plain": [
              "0"
            ]
          },
          "metadata": {},
          "execution_count": 84
        }
      ]
    },
    {
      "cell_type": "code",
      "source": [
        "df.isnull().sum()"
      ],
      "metadata": {
        "colab": {
          "base_uri": "https://localhost:8080/"
        },
        "id": "53HClJzbLKoY",
        "outputId": "8c7e3c8e-4a17-434c-d9b9-db1ead8ecdf9"
      },
      "execution_count": 85,
      "outputs": [
        {
          "output_type": "execute_result",
          "data": {
            "text/plain": [
              "County            0\n",
              "Area              0\n",
              "Precipitation     1\n",
              "Year              0\n",
              "Temperature       0\n",
              "Fertilizer(Kg)    0\n",
              "Production        0\n",
              "dtype: int64"
            ]
          },
          "metadata": {},
          "execution_count": 85
        }
      ]
    },
    {
      "cell_type": "code",
      "source": [
        "mean_precipitation = df['Precipitation'].mean()\n",
        "df['Precipitation'].fillna(mean_precipitation, inplace=True)"
      ],
      "metadata": {
        "id": "hdbezTyNLlXC"
      },
      "execution_count": 86,
      "outputs": []
    },
    {
      "cell_type": "code",
      "source": [
        "df.isnull().sum()"
      ],
      "metadata": {
        "colab": {
          "base_uri": "https://localhost:8080/"
        },
        "id": "xBR-XzDELnDr",
        "outputId": "e62b8bc2-3d96-4776-b170-8f79b662ef17"
      },
      "execution_count": 87,
      "outputs": [
        {
          "output_type": "execute_result",
          "data": {
            "text/plain": [
              "County            0\n",
              "Area              0\n",
              "Precipitation     0\n",
              "Year              0\n",
              "Temperature       0\n",
              "Fertilizer(Kg)    0\n",
              "Production        0\n",
              "dtype: int64"
            ]
          },
          "metadata": {},
          "execution_count": 87
        }
      ]
    },
    {
      "cell_type": "code",
      "source": [
        "len(df['County'].unique())"
      ],
      "metadata": {
        "colab": {
          "base_uri": "https://localhost:8080/"
        },
        "id": "unJF42PRLppk",
        "outputId": "26343ae9-dedd-4e02-c1ee-5e295e0d0a7b"
      },
      "execution_count": 88,
      "outputs": [
        {
          "output_type": "execute_result",
          "data": {
            "text/plain": [
              "23"
            ]
          },
          "metadata": {},
          "execution_count": 88
        }
      ]
    },
    {
      "cell_type": "code",
      "source": [
        "plt.figure(figsize=(15,20))\n",
        "sns.countplot(y=df['County'])\n",
        "plt.show()"
      ],
      "metadata": {
        "id": "utQXihTILyTy",
        "colab": {
          "base_uri": "https://localhost:8080/",
          "height": 1000
        },
        "outputId": "5543efaf-240b-4075-e9ee-6d6929832e15"
      },
      "execution_count": 89,
      "outputs": [
        {
          "output_type": "display_data",
          "data": {
            "text/plain": [
              "<Figure size 1500x2000 with 1 Axes>"
            ],
            "image/png": "[encoded data removed]"
          },
          "metadata": {}
        }
      ]
    },
    {
      "cell_type": "code",
      "source": [
        "county = df['County'].unique()\n",
        "yield_per_county = []\n",
        "for state in county:\n",
        "    yield_per_county.append(df[df['County']==state]['Production'].sum())\n",
        "# Plot bar graph for both fertilizer usage\n",
        "plt.figure(figsize=(20, 6))\n",
        "plt.bar(counties, yield_per_county, color='blue', label='Production')\n",
        "plt.xlabel('County')\n",
        "plt.ylabel('Total Production')\n",
        "plt.title('Production per County')\n",
        "plt.xticks(rotation=45)\n",
        "plt.legend()\n",
        "plt.grid(axis='y')\n",
        "plt.show()"
      ],
      "metadata": {
        "id": "CdxKas8eMHqG",
        "colab": {
          "base_uri": "https://localhost:8080/",
          "height": 382
        },
        "outputId": "523fc297-8aef-4781-c50e-0e6fa9d8cb54"
      },
      "execution_count": 90,
      "outputs": [
        {
          "output_type": "display_data",
          "data": {
            "text/plain": [
              "<Figure size 2000x600 with 1 Axes>"
            ],
            "image/png": "[encoded data removed]"
          },
          "metadata": {}
        }
      ]
    },
    {
      "cell_type": "code",
      "source": [
        "df['Production'].sum()"
      ],
      "metadata": {
        "colab": {
          "base_uri": "https://localhost:8080/"
        },
        "id": "LWti6sP4MWvl",
        "outputId": "583bda6e-8ca6-4974-c111-4381ebd593bc"
      },
      "execution_count": 91,
      "outputs": [
        {
          "output_type": "execute_result",
          "data": {
            "text/plain": [
              "16384329"
            ]
          },
          "metadata": {},
          "execution_count": 91
        }
      ]
    },
    {
      "cell_type": "code",
      "source": [
        "yield_per_county"
      ],
      "metadata": {
        "colab": {
          "base_uri": "https://localhost:8080/"
        },
        "id": "1e7TWHJOMaYP",
        "outputId": "e304fc82-25e2-49ad-d051-b95c64851307"
      },
      "execution_count": 92,
      "outputs": [
        {
          "output_type": "execute_result",
          "data": {
            "text/plain": [
              "[491052,\n",
              " 471459,\n",
              " 2215286,\n",
              " 483712,\n",
              " 710628,\n",
              " 268867,\n",
              " 828301,\n",
              " 217085,\n",
              " 1616378,\n",
              " 726391,\n",
              " 281904,\n",
              " 298559,\n",
              " 332429,\n",
              " 881596,\n",
              " 467917,\n",
              " 241043,\n",
              " 332466,\n",
              " 354492,\n",
              " 241341,\n",
              " 1398069,\n",
              " 1402239,\n",
              " 1818412,\n",
              " 304703]"
            ]
          },
          "metadata": {},
          "execution_count": 92
        }
      ]
    },
    {
      "cell_type": "code",
      "source": [
        "# Get unique counties\n",
        "counties = df['County'].unique()\n",
        "\n",
        "# Calculate total fertilizer usage per county\n",
        "fertilizer_per_county = []\n",
        "for county in counties:\n",
        "    fertilizer_per_county.append(df[df['County'] == county]['Fertilizer(Kg)'].sum())\n",
        "\n",
        "# Plot bar graph for both fertilizer usage\n",
        "plt.figure(figsize=(20, 6))\n",
        "plt.bar(counties, fertilizer_per_county, color='green', label='Fertilizer Usage')\n",
        "plt.xlabel('County')\n",
        "plt.ylabel('Total Amount')\n",
        "plt.title('Total Fertilizer Usage per County')\n",
        "plt.xticks(rotation=45)\n",
        "plt.legend()\n",
        "plt.grid(axis='y')\n",
        "plt.show()"
      ],
      "metadata": {
        "colab": {
          "base_uri": "https://localhost:8080/",
          "height": 375
        },
        "id": "E_HbAJLa0XwB",
        "outputId": "ed12d17a-f672-40a6-aa60-3f87cf7a220f"
      },
      "execution_count": 93,
      "outputs": [
        {
          "output_type": "display_data",
          "data": {
            "text/plain": [
              "<Figure size 2000x600 with 1 Axes>"
            ],
            "image/png": "[encoded data removed]"
          },
          "metadata": {}
        }
      ]
    },
    {
      "cell_type": "code",
      "source": [
        "fertilizer_per_county"
      ],
      "metadata": {
        "colab": {
          "base_uri": "https://localhost:8080/"
        },
        "id": "L8C__7cI1hpt",
        "outputId": "043c578b-25fa-4c2c-e1f4-a0199f24d827"
      },
      "execution_count": 94,
      "outputs": [
        {
          "output_type": "execute_result",
          "data": {
            "text/plain": [
              "[35841,\n",
              " 44975,\n",
              " 146637,\n",
              " 39316,\n",
              " 34386,\n",
              " 23947,\n",
              " 47375,\n",
              " 18110,\n",
              " 99490,\n",
              " 56917,\n",
              " 39942,\n",
              " 27560,\n",
              " 35944,\n",
              " 76490,\n",
              " 29834,\n",
              " 48461,\n",
              " 24327,\n",
              " 60719,\n",
              " 12404,\n",
              " 113572,\n",
              " 102708,\n",
              " 141507,\n",
              " 30128]"
            ]
          },
          "metadata": {},
          "execution_count": 94
        }
      ]
    },
    {
      "cell_type": "code",
      "source": [
        "# Get unique counties\n",
        "counties = df['County'].unique()\n",
        "\n",
        "# Calculate total fertilizer usage per county\n",
        "fertilizer_per_county = []\n",
        "for county in counties:\n",
        "    fertilizer_per_county.append(df[df['County'] == county]['Fertilizer(Kg)'].sum())\n",
        "\n",
        "# Calculate total production per county\n",
        "production_per_county = []\n",
        "for county in counties:\n",
        "    production_per_county.append(df[df['County'] == county]['Production'].sum())\n",
        "\n",
        "# Set the positions for the bars\n",
        "pos = np.arange(len(counties))\n",
        "\n",
        "# Plot vertical bar graph for both fertilizer usage and production\n",
        "plt.figure(figsize=(26, 8))\n",
        "bar_width = 0.35\n",
        "plt.bar(pos, fertilizer_per_county, bar_width, label='Fertilizer Usage', color='blue')\n",
        "plt.bar(pos + bar_width, production_per_county, bar_width, label='Production', color='green')\n",
        "plt.xticks(pos + bar_width / 2, counties, rotation=45)\n",
        "plt.ylabel('Amount')\n",
        "plt.xlabel('County')\n",
        "plt.title('Fertilizer Usage and Production per County')\n",
        "plt.legend()\n",
        "plt.grid(axis='y')\n",
        "plt.show()"
      ],
      "metadata": {
        "colab": {
          "base_uri": "https://localhost:8080/",
          "height": 370
        },
        "id": "Z-7IwqXExz3-",
        "outputId": "6102cebb-74ec-486f-c0fc-a9304f17eefb"
      },
      "execution_count": 95,
      "outputs": [
        {
          "output_type": "display_data",
          "data": {
            "text/plain": [
              "<Figure size 2600x800 with 1 Axes>"
            ],
            "image/png": "[encoded data removed]"
          },
          "metadata": {}
        }
      ]
    },
    {
      "cell_type": "code",
      "source": [
        "df.head()\n"
      ],
      "metadata": {
        "colab": {
          "base_uri": "https://localhost:8080/",
          "height": 206
        },
        "id": "-c5j3cK3Mkyq",
        "outputId": "46609cc2-7f2b-4657-831d-19e83f7648bf"
      },
      "execution_count": 96,
      "outputs": [
        {
          "output_type": "execute_result",
          "data": {
            "text/plain": [
              "    County   Area  Precipitation  Year  Temperature  Fertilizer(Kg)  \\\n",
              "0  Baringo  39753        1423.72  2012        21.02            4527   \n",
              "1  Baringo  29117        1349.11  2013        21.29            3314   \n",
              "2  Baringo  34960         924.75  2014        21.19            3980   \n",
              "3  Baringo  44159        1205.25  2015        21.22            5028   \n",
              "4  Baringo  33163        1038.43  2016        21.68            3562   \n",
              "\n",
              "   Production  \n",
              "0       71867  \n",
              "1       55805  \n",
              "2       34959  \n",
              "3       83313  \n",
              "4       72495  "
            ],
            "text/html": [
              "\n",
              "  <div id=\"df-45388e7a-5c7f-419b-bc54-054025c4a143\" class=\"colab-df-container\">\n",
              "    <div>\n",
              "<style scoped>\n",
              "    .dataframe tbody tr th:only-of-type {\n",
              "        vertical-align: middle;\n",
              "    }\n",
              "\n",
              "    .dataframe tbody tr th {\n",
              "        vertical-align: top;\n",
              "    }\n",
              "\n",
              "    .dataframe thead th {\n",
              "        text-align: right;\n",
              "    }\n",
              "</style>\n",
              "<table border=\"1\" class=\"dataframe\">\n",
              "  <thead>\n",
              "    <tr style=\"text-align: right;\">\n",
              "      <th></th>\n",
              "      <th>County</th>\n",
              "      <th>Area</th>\n",
              "      <th>Precipitation</th>\n",
              "      <th>Year</th>\n",
              "      <th>Temperature</th>\n",
              "      <th>Fertilizer(Kg)</th>\n",
              "      <th>Production</th>\n",
              "    </tr>\n",
              "  </thead>\n",
              "  <tbody>\n",
              "    <tr>\n",
              "      <th>0</th>\n",
              "      <td>Baringo</td>\n",
              "      <td>39753</td>\n",
              "      <td>1423.72</td>\n",
              "      <td>2012</td>\n",
              "      <td>21.02</td>\n",
              "      <td>4527</td>\n",
              "      <td>71867</td>\n",
              "    </tr>\n",
              "    <tr>\n",
              "      <th>1</th>\n",
              "      <td>Baringo</td>\n",
              "      <td>29117</td>\n",
              "      <td>1349.11</td>\n",
              "      <td>2013</td>\n",
              "      <td>21.29</td>\n",
              "      <td>3314</td>\n",
              "      <td>55805</td>\n",
              "    </tr>\n",
              "    <tr>\n",
              "      <th>2</th>\n",
              "      <td>Baringo</td>\n",
              "      <td>34960</td>\n",
              "      <td>924.75</td>\n",
              "      <td>2014</td>\n",
              "      <td>21.19</td>\n",
              "      <td>3980</td>\n",
              "      <td>34959</td>\n",
              "    </tr>\n",
              "    <tr>\n",
              "      <th>3</th>\n",
              "      <td>Baringo</td>\n",
              "      <td>44159</td>\n",
              "      <td>1205.25</td>\n",
              "      <td>2015</td>\n",
              "      <td>21.22</td>\n",
              "      <td>5028</td>\n",
              "      <td>83313</td>\n",
              "    </tr>\n",
              "    <tr>\n",
              "      <th>4</th>\n",
              "      <td>Baringo</td>\n",
              "      <td>33163</td>\n",
              "      <td>1038.43</td>\n",
              "      <td>2016</td>\n",
              "      <td>21.68</td>\n",
              "      <td>3562</td>\n",
              "      <td>72495</td>\n",
              "    </tr>\n",
              "  </tbody>\n",
              "</table>\n",
              "</div>\n",
              "    <div class=\"colab-df-buttons\">\n",
              "\n",
              "  <div class=\"colab-df-container\">\n",
              "    <button class=\"colab-df-convert\" onclick=\"convertToInteractive('df-45388e7a-5c7f-419b-bc54-054025c4a143')\"\n",
              "            title=\"Convert this dataframe to an interactive table.\"\n",
              "            style=\"display:none;\">\n",
              "\n",
              "  <svg xmlns=\"http://www.w3.org/2000/svg\" height=\"24px\" viewBox=\"0 -960 960 960\">\n",
              "    <path d=\"M120-120v-720h720v720H120Zm60-500h600v-160H180v160Zm220 220h160v-160H400v160Zm0 220h160v-160H400v160ZM180-400h160v-160H180v160Zm440 0h160v-160H620v160ZM180-180h160v-160H180v160Zm440 0h160v-160H620v160Z\"/>\n",
              "  </svg>\n",
              "    </button>\n",
              "\n",
              "  <style>\n",
              "    .colab-df-container {\n",
              "      display:flex;\n",
              "      gap: 12px;\n",
              "    }\n",
              "\n",
              "    .colab-df-convert {\n",
              "      background-color: #E8F0FE;\n",
              "      border: none;\n",
              "      border-radius: 50%;\n",
              "      cursor: pointer;\n",
              "      display: none;\n",
              "      fill: #1967D2;\n",
              "      height: 32px;\n",
              "      padding: 0 0 0 0;\n",
              "      width: 32px;\n",
              "    }\n",
              "\n",
              "    .colab-df-convert:hover {\n",
              "      background-color: #E2EBFA;\n",
              "      box-shadow: 0px 1px 2px rgba(60, 64, 67, 0.3), 0px 1px 3px 1px rgba(60, 64, 67, 0.15);\n",
              "      fill: #174EA6;\n",
              "    }\n",
              "\n",
              "    .colab-df-buttons div {\n",
              "      margin-bottom: 4px;\n",
              "    }\n",
              "\n",
              "    [theme=dark] .colab-df-convert {\n",
              "      background-color: #3B4455;\n",
              "      fill: #D2E3FC;\n",
              "    }\n",
              "\n",
              "    [theme=dark] .colab-df-convert:hover {\n",
              "      background-color: #434B5C;\n",
              "      box-shadow: 0px 1px 3px 1px rgba(0, 0, 0, 0.15);\n",
              "      filter: drop-shadow(0px 1px 2px rgba(0, 0, 0, 0.3));\n",
              "      fill: #FFFFFF;\n",
              "    }\n",
              "  </style>\n",
              "\n",
              "    <script>\n",
              "      const buttonEl =\n",
              "        document.querySelector('#df-45388e7a-5c7f-419b-bc54-054025c4a143 button.colab-df-convert');\n",
              "      buttonEl.style.display =\n",
              "        google.colab.kernel.accessAllowed ? 'block' : 'none';\n",
              "\n",
              "      async function convertToInteractive(key) {\n",
              "        const element = document.querySelector('#df-45388e7a-5c7f-419b-bc54-054025c4a143');\n",
              "        const dataTable =\n",
              "          await google.colab.kernel.invokeFunction('convertToInteractive',\n",
              "                                                    [key], {});\n",
              "        if (!dataTable) return;\n",
              "\n",
              "        const docLinkHtml = 'Like what you see? Visit the ' +\n",
              "          '<a target=\"_blank\" href=https://colab.research.google.com/notebooks/data_table.ipynb>data table notebook</a>'\n",
              "          + ' to learn more about interactive tables.';\n",
              "        element.innerHTML = '';\n",
              "        dataTable['output_type'] = 'display_data';\n",
              "        await google.colab.output.renderOutput(dataTable, element);\n",
              "        const docLink = document.createElement('div');\n",
              "        docLink.innerHTML = docLinkHtml;\n",
              "        element.appendChild(docLink);\n",
              "      }\n",
              "    </script>\n",
              "  </div>\n",
              "\n",
              "\n",
              "<div id=\"df-5448dd94-a916-4330-b540-7ac467603095\">\n",
              "  <button class=\"colab-df-quickchart\" onclick=\"quickchart('df-5448dd94-a916-4330-b540-7ac467603095')\"\n",
              "            title=\"Suggest charts\"\n",
              "            style=\"display:none;\">\n",
              "\n",
              "<svg xmlns=\"http://www.w3.org/2000/svg\" height=\"24px\"viewBox=\"0 0 24 24\"\n",
              "     width=\"24px\">\n",
              "    <g>\n",
              "        <path d=\"M19 3H5c-1.1 0-2 .9-2 2v14c0 1.1.9 2 2 2h14c1.1 0 2-.9 2-2V5c0-1.1-.9-2-2-2zM9 17H7v-7h2v7zm4 0h-2V7h2v10zm4 0h-2v-4h2v4z\"/>\n",
              "    </g>\n",
              "</svg>\n",
              "  </button>\n",
              "\n",
              "<style>\n",
              "  .colab-df-quickchart {\n",
              "      --bg-color: #E8F0FE;\n",
              "      --fill-color: #1967D2;\n",
              "      --hover-bg-color: #E2EBFA;\n",
              "      --hover-fill-color: #174EA6;\n",
              "      --disabled-fill-color: #AAA;\n",
              "      --disabled-bg-color: #DDD;\n",
              "  }\n",
              "\n",
              "  [theme=dark] .colab-df-quickchart {\n",
              "      --bg-color: #3B4455;\n",
              "      --fill-color: #D2E3FC;\n",
              "      --hover-bg-color: #434B5C;\n",
              "      --hover-fill-color: #FFFFFF;\n",
              "      --disabled-bg-color: #3B4455;\n",
              "      --disabled-fill-color: #666;\n",
              "  }\n",
              "\n",
              "  .colab-df-quickchart {\n",
              "    background-color: var(--bg-color);\n",
              "    border: none;\n",
              "    border-radius: 50%;\n",
              "    cursor: pointer;\n",
              "    display: none;\n",
              "    fill: var(--fill-color);\n",
              "    height: 32px;\n",
              "    padding: 0;\n",
              "    width: 32px;\n",
              "  }\n",
              "\n",
              "  .colab-df-quickchart:hover {\n",
              "    background-color: var(--hover-bg-color);\n",
              "    box-shadow: 0 1px 2px rgba(60, 64, 67, 0.3), 0 1px 3px 1px rgba(60, 64, 67, 0.15);\n",
              "    fill: var(--button-hover-fill-color);\n",
              "  }\n",
              "\n",
              "  .colab-df-quickchart-complete:disabled,\n",
              "  .colab-df-quickchart-complete:disabled:hover {\n",
              "    background-color: var(--disabled-bg-color);\n",
              "    fill: var(--disabled-fill-color);\n",
              "    box-shadow: none;\n",
              "  }\n",
              "\n",
              "  .colab-df-spinner {\n",
              "    border: 2px solid var(--fill-color);\n",
              "    border-color: transparent;\n",
              "    border-bottom-color: var(--fill-color);\n",
              "    animation:\n",
              "      spin 1s steps(1) infinite;\n",
              "  }\n",
              "\n",
              "  @keyframes spin {\n",
              "    0% {\n",
              "      border-color: transparent;\n",
              "      border-bottom-color: var(--fill-color);\n",
              "      border-left-color: var(--fill-color);\n",
              "    }\n",
              "    20% {\n",
              "      border-color: transparent;\n",
              "      border-left-color: var(--fill-color);\n",
              "      border-top-color: var(--fill-color);\n",
              "    }\n",
              "    30% {\n",
              "      border-color: transparent;\n",
              "      border-left-color: var(--fill-color);\n",
              "      border-top-color: var(--fill-color);\n",
              "      border-right-color: var(--fill-color);\n",
              "    }\n",
              "    40% {\n",
              "      border-color: transparent;\n",
              "      border-right-color: var(--fill-color);\n",
              "      border-top-color: var(--fill-color);\n",
              "    }\n",
              "    60% {\n",
              "      border-color: transparent;\n",
              "      border-right-color: var(--fill-color);\n",
              "    }\n",
              "    80% {\n",
              "      border-color: transparent;\n",
              "      border-right-color: var(--fill-color);\n",
              "      border-bottom-color: var(--fill-color);\n",
              "    }\n",
              "    90% {\n",
              "      border-color: transparent;\n",
              "      border-bottom-color: var(--fill-color);\n",
              "    }\n",
              "  }\n",
              "</style>\n",
              "\n",
              "  <script>\n",
              "    async function quickchart(key) {\n",
              "      const quickchartButtonEl =\n",
              "        document.querySelector('#' + key + ' button');\n",
              "      quickchartButtonEl.disabled = true;  // To prevent multiple clicks.\n",
              "      quickchartButtonEl.classList.add('colab-df-spinner');\n",
              "      try {\n",
              "        const charts = await google.colab.kernel.invokeFunction(\n",
              "            'suggestCharts', [key], {});\n",
              "      } catch (error) {\n",
              "        console.error('Error during call to suggestCharts:', error);\n",
              "      }\n",
              "      quickchartButtonEl.classList.remove('colab-df-spinner');\n",
              "      quickchartButtonEl.classList.add('colab-df-quickchart-complete');\n",
              "    }\n",
              "    (() => {\n",
              "      let quickchartButtonEl =\n",
              "        document.querySelector('#df-5448dd94-a916-4330-b540-7ac467603095 button');\n",
              "      quickchartButtonEl.style.display =\n",
              "        google.colab.kernel.accessAllowed ? 'block' : 'none';\n",
              "    })();\n",
              "  </script>\n",
              "</div>\n",
              "    </div>\n",
              "  </div>\n"
            ],
            "application/vnd.google.colaboratory.intrinsic+json": {
              "type": "dataframe",
              "variable_name": "df",
              "summary": "{\n  \"name\": \"df\",\n  \"rows\": 184,\n  \"fields\": [\n    {\n      \"column\": \"County\",\n      \"properties\": {\n        \"dtype\": \"category\",\n        \"num_unique_values\": 23,\n        \"samples\": [\n          \"Kitui\",\n          \"Kericho\",\n          \"Baringo\"\n        ],\n        \"semantic_type\": \"\",\n        \"description\": \"\"\n      }\n    },\n    {\n      \"column\": \"Area\",\n      \"properties\": {\n        \"dtype\": \"number\",\n        \"std\": 31235,\n        \"min\": 647,\n        \"max\": 273056,\n        \"num_unique_values\": 183,\n        \"samples\": [\n          97397,\n          26720,\n          73191\n        ],\n        \"semantic_type\": \"\",\n        \"description\": \"\"\n      }\n    },\n    {\n      \"column\": \"Precipitation\",\n      \"properties\": {\n        \"dtype\": \"number\",\n        \"std\": 465.3543411568259,\n        \"min\": 571.96,\n        \"max\": 2346.56,\n        \"num_unique_values\": 184,\n        \"samples\": [\n          1668.13,\n          896.14,\n          1085.82\n        ],\n        \"semantic_type\": \"\",\n        \"description\": \"\"\n      }\n    },\n    {\n      \"column\": \"Year\",\n      \"properties\": {\n        \"dtype\": \"number\",\n        \"std\": 2,\n        \"min\": 2012,\n        \"max\": 2020,\n        \"num_unique_values\": 8,\n        \"samples\": [\n          2013,\n          2017,\n          2012\n        ],\n        \"semantic_type\": \"\",\n        \"description\": \"\"\n      }\n    },\n    {\n      \"column\": \"Temperature\",\n      \"properties\": {\n        \"dtype\": \"number\",\n        \"std\": 3.119309385585708,\n        \"min\": 15.38,\n        \"max\": 28.34,\n        \"num_unique_values\": 161,\n        \"samples\": [\n          22.2,\n          25.27,\n          18.52\n        ],\n        \"semantic_type\": \"\",\n        \"description\": \"\"\n      }\n    },\n    {\n      \"column\": \"Fertilizer(Kg)\",\n      \"properties\": {\n        \"dtype\": \"number\",\n        \"std\": 5714,\n        \"min\": 27,\n        \"max\": 43477,\n        \"num_unique_values\": 180,\n        \"samples\": [\n          21605,\n          1924,\n          12571\n        ],\n        \"semantic_type\": \"\",\n        \"description\": \"\"\n      }\n    },\n    {\n      \"column\": \"Production\",\n      \"properties\": {\n        \"dtype\": \"number\",\n        \"std\": 76885,\n        \"min\": 300,\n        \"max\": 317912,\n        \"num_unique_values\": 182,\n        \"samples\": [\n          260266,\n          26611,\n          207404\n        ],\n        \"semantic_type\": \"\",\n        \"description\": \"\"\n      }\n    }\n  ]\n}"
            }
          },
          "metadata": {},
          "execution_count": 96
        }
      ]
    },
    {
      "cell_type": "code",
      "source": [
        "df.info()"
      ],
      "metadata": {
        "colab": {
          "base_uri": "https://localhost:8080/"
        },
        "id": "Eg4yUDcSvVZ-",
        "outputId": "cd2b61f3-82b4-4947-95c4-133c3e15afe7"
      },
      "execution_count": 97,
      "outputs": [
        {
          "output_type": "stream",
          "name": "stdout",
          "text": [
            "<class 'pandas.core.frame.DataFrame'>\n",
            "RangeIndex: 184 entries, 0 to 183\n",
            "Data columns (total 7 columns):\n",
            " #   Column          Non-Null Count  Dtype  \n",
            "---  ------          --------------  -----  \n",
            " 0   County          184 non-null    object \n",
            " 1   Area            184 non-null    int64  \n",
            " 2   Precipitation   184 non-null    float64\n",
            " 3   Year            184 non-null    int64  \n",
            " 4   Temperature     184 non-null    float64\n",
            " 5   Fertilizer(Kg)  184 non-null    int64  \n",
            " 6   Production      184 non-null    int64  \n",
            "dtypes: float64(2), int64(4), object(1)\n",
            "memory usage: 10.2+ KB\n"
          ]
        }
      ]
    },
    {
      "cell_type": "code",
      "source": [
        "df.skew()"
      ],
      "metadata": {
        "colab": {
          "base_uri": "https://localhost:8080/"
        },
        "id": "hWyLZbSy2rl1",
        "outputId": "9fb12434-f0ce-45bf-85d8-e11c85407203"
      },
      "execution_count": 98,
      "outputs": [
        {
          "output_type": "stream",
          "name": "stderr",
          "text": [
            "<ipython-input-98-9e0b1e29546f>:1: FutureWarning: The default value of numeric_only in DataFrame.skew is deprecated. In a future version, it will default to False. In addition, specifying 'numeric_only=None' is deprecated. Select only valid columns or specify the value of numeric_only to silence this warning.\n",
            "  df.skew()\n"
          ]
        },
        {
          "output_type": "execute_result",
          "data": {
            "text/plain": [
              "Area              2.182520\n",
              "Precipitation    -0.002524\n",
              "Year              0.239092\n",
              "Temperature       0.569445\n",
              "Fertilizer(Kg)    2.200386\n",
              "Production        1.274702\n",
              "dtype: float64"
            ]
          },
          "metadata": {},
          "execution_count": 98
        }
      ]
    },
    {
      "cell_type": "code",
      "source": [
        "from sklearn.preprocessing import LabelEncoder\n",
        "le=LabelEncoder()\n",
        "df['County']=le.fit_transform(df['County'])"
      ],
      "metadata": {
        "id": "e72a7bKP3BCH"
      },
      "execution_count": 99,
      "outputs": []
    },
    {
      "cell_type": "code",
      "source": [
        "X = df.iloc[:, :-1]\n",
        "y = df.iloc[:, -1]"
      ],
      "metadata": {
        "id": "p1fhtT7dM3Uf"
      },
      "execution_count": 100,
      "outputs": []
    },
    {
      "cell_type": "code",
      "source": [
        "X.head()"
      ],
      "metadata": {
        "colab": {
          "base_uri": "https://localhost:8080/",
          "height": 206
        },
        "id": "UCL1Gvfi2fAI",
        "outputId": "5bb12fd4-5fcf-48f8-844d-93c1380dfa7f"
      },
      "execution_count": 101,
      "outputs": [
        {
          "output_type": "execute_result",
          "data": {
            "text/plain": [
              "   County   Area  Precipitation  Year  Temperature  Fertilizer(Kg)\n",
              "0       0  39753        1423.72  2012        21.02            4527\n",
              "1       0  29117        1349.11  2013        21.29            3314\n",
              "2       0  34960         924.75  2014        21.19            3980\n",
              "3       0  44159        1205.25  2015        21.22            5028\n",
              "4       0  33163        1038.43  2016        21.68            3562"
            ],
            "text/html": [
              "\n",
              "  <div id=\"df-57478c43-16a5-499e-9a64-9e8ec95213a0\" class=\"colab-df-container\">\n",
              "    <div>\n",
              "<style scoped>\n",
              "    .dataframe tbody tr th:only-of-type {\n",
              "        vertical-align: middle;\n",
              "    }\n",
              "\n",
              "    .dataframe tbody tr th {\n",
              "        vertical-align: top;\n",
              "    }\n",
              "\n",
              "    .dataframe thead th {\n",
              "        text-align: right;\n",
              "    }\n",
              "</style>\n",
              "<table border=\"1\" class=\"dataframe\">\n",
              "  <thead>\n",
              "    <tr style=\"text-align: right;\">\n",
              "      <th></th>\n",
              "      <th>County</th>\n",
              "      <th>Area</th>\n",
              "      <th>Precipitation</th>\n",
              "      <th>Year</th>\n",
              "      <th>Temperature</th>\n",
              "      <th>Fertilizer(Kg)</th>\n",
              "    </tr>\n",
              "  </thead>\n",
              "  <tbody>\n",
              "    <tr>\n",
              "      <th>0</th>\n",
              "      <td>0</td>\n",
              "      <td>39753</td>\n",
              "      <td>1423.72</td>\n",
              "      <td>2012</td>\n",
              "      <td>21.02</td>\n",
              "      <td>4527</td>\n",
              "    </tr>\n",
              "    <tr>\n",
              "      <th>1</th>\n",
              "      <td>0</td>\n",
              "      <td>29117</td>\n",
              "      <td>1349.11</td>\n",
              "      <td>2013</td>\n",
              "      <td>21.29</td>\n",
              "      <td>3314</td>\n",
              "    </tr>\n",
              "    <tr>\n",
              "      <th>2</th>\n",
              "      <td>0</td>\n",
              "      <td>34960</td>\n",
              "      <td>924.75</td>\n",
              "      <td>2014</td>\n",
              "      <td>21.19</td>\n",
              "      <td>3980</td>\n",
              "    </tr>\n",
              "    <tr>\n",
              "      <th>3</th>\n",
              "      <td>0</td>\n",
              "      <td>44159</td>\n",
              "      <td>1205.25</td>\n",
              "      <td>2015</td>\n",
              "      <td>21.22</td>\n",
              "      <td>5028</td>\n",
              "    </tr>\n",
              "    <tr>\n",
              "      <th>4</th>\n",
              "      <td>0</td>\n",
              "      <td>33163</td>\n",
              "      <td>1038.43</td>\n",
              "      <td>2016</td>\n",
              "      <td>21.68</td>\n",
              "      <td>3562</td>\n",
              "    </tr>\n",
              "  </tbody>\n",
              "</table>\n",
              "</div>\n",
              "    <div class=\"colab-df-buttons\">\n",
              "\n",
              "  <div class=\"colab-df-container\">\n",
              "    <button class=\"colab-df-convert\" onclick=\"convertToInteractive('df-57478c43-16a5-499e-9a64-9e8ec95213a0')\"\n",
              "            title=\"Convert this dataframe to an interactive table.\"\n",
              "            style=\"display:none;\">\n",
              "\n",
              "  <svg xmlns=\"http://www.w3.org/2000/svg\" height=\"24px\" viewBox=\"0 -960 960 960\">\n",
              "    <path d=\"M120-120v-720h720v720H120Zm60-500h600v-160H180v160Zm220 220h160v-160H400v160Zm0 220h160v-160H400v160ZM180-400h160v-160H180v160Zm440 0h160v-160H620v160ZM180-180h160v-160H180v160Zm440 0h160v-160H620v160Z\"/>\n",
              "  </svg>\n",
              "    </button>\n",
              "\n",
              "  <style>\n",
              "    .colab-df-container {\n",
              "      display:flex;\n",
              "      gap: 12px;\n",
              "    }\n",
              "\n",
              "    .colab-df-convert {\n",
              "      background-color: #E8F0FE;\n",
              "      border: none;\n",
              "      border-radius: 50%;\n",
              "      cursor: pointer;\n",
              "      display: none;\n",
              "      fill: #1967D2;\n",
              "      height: 32px;\n",
              "      padding: 0 0 0 0;\n",
              "      width: 32px;\n",
              "    }\n",
              "\n",
              "    .colab-df-convert:hover {\n",
              "      background-color: #E2EBFA;\n",
              "      box-shadow: 0px 1px 2px rgba(60, 64, 67, 0.3), 0px 1px 3px 1px rgba(60, 64, 67, 0.15);\n",
              "      fill: #174EA6;\n",
              "    }\n",
              "\n",
              "    .colab-df-buttons div {\n",
              "      margin-bottom: 4px;\n",
              "    }\n",
              "\n",
              "    [theme=dark] .colab-df-convert {\n",
              "      background-color: #3B4455;\n",
              "      fill: #D2E3FC;\n",
              "    }\n",
              "\n",
              "    [theme=dark] .colab-df-convert:hover {\n",
              "      background-color: #434B5C;\n",
              "      box-shadow: 0px 1px 3px 1px rgba(0, 0, 0, 0.15);\n",
              "      filter: drop-shadow(0px 1px 2px rgba(0, 0, 0, 0.3));\n",
              "      fill: #FFFFFF;\n",
              "    }\n",
              "  </style>\n",
              "\n",
              "    <script>\n",
              "      const buttonEl =\n",
              "        document.querySelector('#df-57478c43-16a5-499e-9a64-9e8ec95213a0 button.colab-df-convert');\n",
              "      buttonEl.style.display =\n",
              "        google.colab.kernel.accessAllowed ? 'block' : 'none';\n",
              "\n",
              "      async function convertToInteractive(key) {\n",
              "        const element = document.querySelector('#df-57478c43-16a5-499e-9a64-9e8ec95213a0');\n",
              "        const dataTable =\n",
              "          await google.colab.kernel.invokeFunction('convertToInteractive',\n",
              "                                                    [key], {});\n",
              "        if (!dataTable) return;\n",
              "\n",
              "        const docLinkHtml = 'Like what you see? Visit the ' +\n",
              "          '<a target=\"_blank\" href=https://colab.research.google.com/notebooks/data_table.ipynb>data table notebook</a>'\n",
              "          + ' to learn more about interactive tables.';\n",
              "        element.innerHTML = '';\n",
              "        dataTable['output_type'] = 'display_data';\n",
              "        await google.colab.output.renderOutput(dataTable, element);\n",
              "        const docLink = document.createElement('div');\n",
              "        docLink.innerHTML = docLinkHtml;\n",
              "        element.appendChild(docLink);\n",
              "      }\n",
              "    </script>\n",
              "  </div>\n",
              "\n",
              "\n",
              "<div id=\"df-1e22ba49-bcc7-4965-bfe8-63b068503d84\">\n",
              "  <button class=\"colab-df-quickchart\" onclick=\"quickchart('df-1e22ba49-bcc7-4965-bfe8-63b068503d84')\"\n",
              "            title=\"Suggest charts\"\n",
              "            style=\"display:none;\">\n",
              "\n",
              "<svg xmlns=\"http://www.w3.org/2000/svg\" height=\"24px\"viewBox=\"0 0 24 24\"\n",
              "     width=\"24px\">\n",
              "    <g>\n",
              "        <path d=\"M19 3H5c-1.1 0-2 .9-2 2v14c0 1.1.9 2 2 2h14c1.1 0 2-.9 2-2V5c0-1.1-.9-2-2-2zM9 17H7v-7h2v7zm4 0h-2V7h2v10zm4 0h-2v-4h2v4z\"/>\n",
              "    </g>\n",
              "</svg>\n",
              "  </button>\n",
              "\n",
              "<style>\n",
              "  .colab-df-quickchart {\n",
              "      --bg-color: #E8F0FE;\n",
              "      --fill-color: #1967D2;\n",
              "      --hover-bg-color: #E2EBFA;\n",
              "      --hover-fill-color: #174EA6;\n",
              "      --disabled-fill-color: #AAA;\n",
              "      --disabled-bg-color: #DDD;\n",
              "  }\n",
              "\n",
              "  [theme=dark] .colab-df-quickchart {\n",
              "      --bg-color: #3B4455;\n",
              "      --fill-color: #D2E3FC;\n",
              "      --hover-bg-color: #434B5C;\n",
              "      --hover-fill-color: #FFFFFF;\n",
              "      --disabled-bg-color: #3B4455;\n",
              "      --disabled-fill-color: #666;\n",
              "  }\n",
              "\n",
              "  .colab-df-quickchart {\n",
              "    background-color: var(--bg-color);\n",
              "    border: none;\n",
              "    border-radius: 50%;\n",
              "    cursor: pointer;\n",
              "    display: none;\n",
              "    fill: var(--fill-color);\n",
              "    height: 32px;\n",
              "    padding: 0;\n",
              "    width: 32px;\n",
              "  }\n",
              "\n",
              "  .colab-df-quickchart:hover {\n",
              "    background-color: var(--hover-bg-color);\n",
              "    box-shadow: 0 1px 2px rgba(60, 64, 67, 0.3), 0 1px 3px 1px rgba(60, 64, 67, 0.15);\n",
              "    fill: var(--button-hover-fill-color);\n",
              "  }\n",
              "\n",
              "  .colab-df-quickchart-complete:disabled,\n",
              "  .colab-df-quickchart-complete:disabled:hover {\n",
              "    background-color: var(--disabled-bg-color);\n",
              "    fill: var(--disabled-fill-color);\n",
              "    box-shadow: none;\n",
              "  }\n",
              "\n",
              "  .colab-df-spinner {\n",
              "    border: 2px solid var(--fill-color);\n",
              "    border-color: transparent;\n",
              "    border-bottom-color: var(--fill-color);\n",
              "    animation:\n",
              "      spin 1s steps(1) infinite;\n",
              "  }\n",
              "\n",
              "  @keyframes spin {\n",
              "    0% {\n",
              "      border-color: transparent;\n",
              "      border-bottom-color: var(--fill-color);\n",
              "      border-left-color: var(--fill-color);\n",
              "    }\n",
              "    20% {\n",
              "      border-color: transparent;\n",
              "      border-left-color: var(--fill-color);\n",
              "      border-top-color: var(--fill-color);\n",
              "    }\n",
              "    30% {\n",
              "      border-color: transparent;\n",
              "      border-left-color: var(--fill-color);\n",
              "      border-top-color: var(--fill-color);\n",
              "      border-right-color: var(--fill-color);\n",
              "    }\n",
              "    40% {\n",
              "      border-color: transparent;\n",
              "      border-right-color: var(--fill-color);\n",
              "      border-top-color: var(--fill-color);\n",
              "    }\n",
              "    60% {\n",
              "      border-color: transparent;\n",
              "      border-right-color: var(--fill-color);\n",
              "    }\n",
              "    80% {\n",
              "      border-color: transparent;\n",
              "      border-right-color: var(--fill-color);\n",
              "      border-bottom-color: var(--fill-color);\n",
              "    }\n",
              "    90% {\n",
              "      border-color: transparent;\n",
              "      border-bottom-color: var(--fill-color);\n",
              "    }\n",
              "  }\n",
              "</style>\n",
              "\n",
              "  <script>\n",
              "    async function quickchart(key) {\n",
              "      const quickchartButtonEl =\n",
              "        document.querySelector('#' + key + ' button');\n",
              "      quickchartButtonEl.disabled = true;  // To prevent multiple clicks.\n",
              "      quickchartButtonEl.classList.add('colab-df-spinner');\n",
              "      try {\n",
              "        const charts = await google.colab.kernel.invokeFunction(\n",
              "            'suggestCharts', [key], {});\n",
              "      } catch (error) {\n",
              "        console.error('Error during call to suggestCharts:', error);\n",
              "      }\n",
              "      quickchartButtonEl.classList.remove('colab-df-spinner');\n",
              "      quickchartButtonEl.classList.add('colab-df-quickchart-complete');\n",
              "    }\n",
              "    (() => {\n",
              "      let quickchartButtonEl =\n",
              "        document.querySelector('#df-1e22ba49-bcc7-4965-bfe8-63b068503d84 button');\n",
              "      quickchartButtonEl.style.display =\n",
              "        google.colab.kernel.accessAllowed ? 'block' : 'none';\n",
              "    })();\n",
              "  </script>\n",
              "</div>\n",
              "    </div>\n",
              "  </div>\n"
            ],
            "application/vnd.google.colaboratory.intrinsic+json": {
              "type": "dataframe",
              "variable_name": "X",
              "summary": "{\n  \"name\": \"X\",\n  \"rows\": 184,\n  \"fields\": [\n    {\n      \"column\": \"County\",\n      \"properties\": {\n        \"dtype\": \"number\",\n        \"std\": 6,\n        \"min\": 0,\n        \"max\": 22,\n        \"num_unique_values\": 23,\n        \"samples\": [\n          15,\n          9,\n          0\n        ],\n        \"semantic_type\": \"\",\n        \"description\": \"\"\n      }\n    },\n    {\n      \"column\": \"Area\",\n      \"properties\": {\n        \"dtype\": \"number\",\n        \"std\": 31235,\n        \"min\": 647,\n        \"max\": 273056,\n        \"num_unique_values\": 183,\n        \"samples\": [\n          97397,\n          26720,\n          73191\n        ],\n        \"semantic_type\": \"\",\n        \"description\": \"\"\n      }\n    },\n    {\n      \"column\": \"Precipitation\",\n      \"properties\": {\n        \"dtype\": \"number\",\n        \"std\": 465.3543411568259,\n        \"min\": 571.96,\n        \"max\": 2346.56,\n        \"num_unique_values\": 184,\n        \"samples\": [\n          1668.13,\n          896.14,\n          1085.82\n        ],\n        \"semantic_type\": \"\",\n        \"description\": \"\"\n      }\n    },\n    {\n      \"column\": \"Year\",\n      \"properties\": {\n        \"dtype\": \"number\",\n        \"std\": 2,\n        \"min\": 2012,\n        \"max\": 2020,\n        \"num_unique_values\": 8,\n        \"samples\": [\n          2013,\n          2017,\n          2012\n        ],\n        \"semantic_type\": \"\",\n        \"description\": \"\"\n      }\n    },\n    {\n      \"column\": \"Temperature\",\n      \"properties\": {\n        \"dtype\": \"number\",\n        \"std\": 3.119309385585708,\n        \"min\": 15.38,\n        \"max\": 28.34,\n        \"num_unique_values\": 161,\n        \"samples\": [\n          22.2,\n          25.27,\n          18.52\n        ],\n        \"semantic_type\": \"\",\n        \"description\": \"\"\n      }\n    },\n    {\n      \"column\": \"Fertilizer(Kg)\",\n      \"properties\": {\n        \"dtype\": \"number\",\n        \"std\": 5714,\n        \"min\": 27,\n        \"max\": 43477,\n        \"num_unique_values\": 180,\n        \"samples\": [\n          21605,\n          1924,\n          12571\n        ],\n        \"semantic_type\": \"\",\n        \"description\": \"\"\n      }\n    }\n  ]\n}"
            }
          },
          "metadata": {},
          "execution_count": 101
        }
      ]
    },
    {
      "cell_type": "code",
      "source": [
        "y.unique()"
      ],
      "metadata": {
        "colab": {
          "base_uri": "https://localhost:8080/"
        },
        "id": "J1djg35b3RgO",
        "outputId": "052f5d41-67fc-4860-8449-e7662f72227c"
      },
      "execution_count": 102,
      "outputs": [
        {
          "output_type": "execute_result",
          "data": {
            "text/plain": [
              "array([ 71867,  55805,  34959,  83313,  72495,  45764,  58475,  68374,\n",
              "        73278,  72236,  53162,  38720,  45517,  56601,  58336,  73609,\n",
              "       262381, 221586, 267302, 260266, 301068, 289290, 295481, 317912,\n",
              "        50102,  63230,  72662,  86526,  36631,  51483,  53629,  69449,\n",
              "        91964, 101336, 103448,  78020,  75005,  80823,  92601,  87431,\n",
              "        46750,  35105,  26611,  49156,  16104,  28378,  32113,  34650,\n",
              "        97513, 110380, 124465, 137958,  71446,  93405, 100741,  92393,\n",
              "         2218,  63460,  73396,  20004,  11016,  12751,  18698,  15542,\n",
              "       172308, 172683, 182397, 224225, 172350, 227237, 238290, 226888,\n",
              "        98549,  80022,  68913,  85698,  91832, 103245, 105402,  92730,\n",
              "        27831,  21609,   7384,  58260,  55837,  35506,  32219,  43258,\n",
              "        18625,    310,    300, 103830,  28114,  48121,  54675,  44584,\n",
              "        46562,  48237,  37183,  58896,  30168,  37756,  33347,  40280,\n",
              "        13023, 119703, 100231,  96054, 168102, 154181, 132789,  61453,\n",
              "        54651,  41699,  20605,  53777,  70913,  67306,  55238,  37499,\n",
              "        30585,  48470,   7433,  10893,  22966,  27959,  13225,  13245,\n",
              "        31473,  77693,  20170,  80498,  62102,  34060, 119852,   4979,\n",
              "         6471,  42554,  46655,  46553,  48007,  39421,  19410,  33585,\n",
              "        35550,  46129,  17973,  31344,  29025,  28325, 298974, 231412,\n",
              "       158914, 114687, 207404, 206509, 179198,    971, 217360, 170034,\n",
              "       167219, 189229, 204437, 197272,  50538, 206150, 184295, 314412,\n",
              "       267769, 201348, 242735, 231294, 208306, 168253,  27857,  36241,\n",
              "        36605,  43927,  50289,  43374,  35129,  31281])"
            ]
          },
          "metadata": {},
          "execution_count": 102
        }
      ]
    },
    {
      "cell_type": "code",
      "source": [
        "from sklearn.model_selection import train_test_split\n",
        "x_train,x_test,y_train,y_test=train_test_split(X,y,train_size=0.7,random_state=1)"
      ],
      "metadata": {
        "id": "Kfc-VUCL4WSJ"
      },
      "execution_count": 103,
      "outputs": []
    },
    {
      "cell_type": "code",
      "source": [
        "print(\"Training data\",x_train.shape)"
      ],
      "metadata": {
        "colab": {
          "base_uri": "https://localhost:8080/"
        },
        "id": "TBTMKOHp5Hu2",
        "outputId": "0f92d799-2a52-47bf-d921-ff1023c32fd1"
      },
      "execution_count": 104,
      "outputs": [
        {
          "output_type": "stream",
          "name": "stdout",
          "text": [
            "Training data (128, 6)\n"
          ]
        }
      ]
    },
    {
      "cell_type": "code",
      "source": [
        "print(\"Training data\",x_test.shape)"
      ],
      "metadata": {
        "colab": {
          "base_uri": "https://localhost:8080/"
        },
        "id": "mvWaL7xk4d2P",
        "outputId": "3bcbc9b0-7a5e-40c3-8b86-2b1e78ea72ef"
      },
      "execution_count": 105,
      "outputs": [
        {
          "output_type": "stream",
          "name": "stdout",
          "text": [
            "Training data (56, 6)\n"
          ]
        }
      ]
    },
    {
      "cell_type": "code",
      "source": [
        "from sklearn.linear_model import LinearRegression, Lasso, Ridge\n",
        "from sklearn.neighbors import KNeighborsRegressor\n",
        "from sklearn.tree import DecisionTreeRegressor\n",
        "from sklearn.metrics import mean_absolute_error, r2_score\n",
        "\n",
        "models = {\n",
        "    'lr': LinearRegression(),\n",
        "    'lss': Lasso(),\n",
        "    'Rid': Ridge(),\n",
        "    'Dtr': DecisionTreeRegressor(),\n",
        "    'KNN': KNeighborsRegressor()\n",
        "}\n",
        "\n",
        "for name, md in models.items():\n",
        "    md.fit(x_train, y_train)\n",
        "    y_pred = md.predict(x_test)\n",
        "\n",
        "    print(f\"{name} : mae : {mean_absolute_error(y_test, y_pred)} score : {r2_score(y_test, y_pred)}\")"
      ],
      "metadata": {
        "colab": {
          "base_uri": "https://localhost:8080/"
        },
        "id": "6aJZ9LwJ5sh0",
        "outputId": "335fbbb5-8488-4cfe-f5df-bcc6747f7ea8"
      },
      "execution_count": 106,
      "outputs": [
        {
          "output_type": "stream",
          "name": "stdout",
          "text": [
            "lr : mae : 31081.294134271073 score : 0.6982140619687427\n",
            "lss : mae : 31081.288102349234 score : 0.6982164597122344\n",
            "Rid : mae : 31081.395926553556 score : 0.6982327196109666\n",
            "Dtr : mae : 33079.107142857145 score : 0.4681058077768627\n",
            "KNN : mae : 32536.589285714286 score : 0.588704177920669\n"
          ]
        }
      ]
    },
    {
      "cell_type": "code",
      "source": [
        "lr = LinearRegression()\n",
        "lr.fit(x_train,y_train)\n",
        "lr.predict(x_test)"
      ],
      "metadata": {
        "colab": {
          "base_uri": "https://localhost:8080/"
        },
        "id": "UzDTRYRT6fPF",
        "outputId": "1cbc24af-17cb-40a6-d8d6-de3e2213b8c5"
      },
      "execution_count": 107,
      "outputs": [
        {
          "output_type": "execute_result",
          "data": {
            "text/plain": [
              "array([252781.49224418,  17206.46433403,  74144.16761889, 113841.04558346,\n",
              "        48036.19827993,  77667.35129845,  87157.34418677, 100894.10697629,\n",
              "        56970.03687101,  76553.96665253,  58394.74887642, 168848.25497962,\n",
              "        88501.91072141,  38517.50890463,  39895.95445951,  45572.99605211,\n",
              "        88133.10132591,  72099.91460539,  69786.43386877, 110109.75462941,\n",
              "        39313.21270174,  37664.48037142,  95122.84506907,  35244.27575193,\n",
              "       247479.84805042,  82074.82435784,  54774.85938896, 156719.19149558,\n",
              "       147462.66777584,  35874.70664007,  80529.50605157, 173676.88053416,\n",
              "        75468.98837699, 127188.39062251, 163332.7599807 ,  30249.77892991,\n",
              "       115958.23849046,  58546.12822169, 143373.48746807, 245339.76532802,\n",
              "        67410.94615362,  52600.67840166,  51189.01212858, 119888.77145976,\n",
              "        50432.25246   , 113259.00601473, 103114.23750811,  26049.537387  ,\n",
              "       124668.79599856,  64124.36967294,  17676.55103924,  68083.41012898,\n",
              "        64210.1956353 ,  77200.35257167,  35300.28767612,  39748.8383072 ])"
            ]
          },
          "metadata": {},
          "execution_count": 107
        }
      ]
    },
    {
      "cell_type": "code",
      "source": [
        "# Assuming you have already fitted your Ridge model and obtained predictions\n",
        "predictions = lr.predict(x_test)\n",
        "\n",
        "# Create a DataFrame to store actual and predicted values\n",
        "comparison_df = pd.DataFrame({'Actual': y_test, 'Predicted': predictions})\n",
        "\n",
        "# Display the DataFrame\n",
        "print(comparison_df)"
      ],
      "metadata": {
        "colab": {
          "base_uri": "https://localhost:8080/"
        },
        "id": "w6lspIHw66-8",
        "outputId": "5815c7de-0d92-4f30-be1a-23315dbb0255"
      },
      "execution_count": 108,
      "outputs": [
        {
          "output_type": "stream",
          "name": "stdout",
          "text": [
            "     Actual      Predicted\n",
            "16   262381  252781.492244\n",
            "145   33585   17206.464334\n",
            "95    44584   74144.167619\n",
            "158  179198  113841.045583\n",
            "47    34650   48036.198280\n",
            "118   70913   77667.351298\n",
            "53    93405   87157.344187\n",
            "31    69449  100894.106976\n",
            "4     72495   56970.036871\n",
            "35    78020   76553.966653\n",
            "40    46750   58394.748876\n",
            "153  231412  168848.254980\n",
            "54   100741   88501.910721\n",
            "124    7433   38517.508905\n",
            "122   30585   39895.954460\n",
            "114   54651   45572.996052\n",
            "48    97513   88133.101326\n",
            "119   67306   72099.914605\n",
            "126   22966   69786.433869\n",
            "11    38720  110109.754629\n",
            "82     7384   39313.212702\n",
            "136  119852   37664.480371\n",
            "14    58336   95122.845069\n",
            "42    26611   35244.275752\n",
            "19   260266  247479.848050\n",
            "94    54675   82074.824358\n",
            "178   36605   54774.859389\n",
            "162  167219  156719.191496\n",
            "107  100231  147462.667776\n",
            "59    20004   35874.706640\n",
            "29    51483   80529.506052\n",
            "69   227237  173676.880534\n",
            "177   36241   75468.988377\n",
            "165  197272  127188.390623\n",
            "174  208306  163332.759981\n",
            "56     2218   30249.778930\n",
            "106  119703  115958.238490\n",
            "102   33347   58546.128222\n",
            "66   182397  143373.487468\n",
            "17   221586  245339.765328\n",
            "5     45764   67410.946154\n",
            "135   34060   52600.678402\n",
            "91   103830   51189.012129\n",
            "73    80022  119888.771460\n",
            "98    37183   50432.252460\n",
            "105   13023  113259.006015\n",
            "125   10893  103114.237508\n",
            "58    73396   26049.537387\n",
            "167  206150  124668.795999\n",
            "97    48237   64124.369673\n",
            "89      310   17676.551039\n",
            "112   97513   68083.410129\n",
            "39    87431   64210.195635\n",
            "28    36631   77200.352572\n",
            "44    16104   35300.287676\n",
            "120   55238   39748.838307\n"
          ]
        }
      ]
    },
    {
      "cell_type": "code",
      "source": [
        "import pickle\n",
        "pickle.dump(lr,open('lr.pkl','wb'))"
      ],
      "metadata": {
        "id": "rrfr6V6V7Y7r"
      },
      "execution_count": 109,
      "outputs": []
    }
  ]
}